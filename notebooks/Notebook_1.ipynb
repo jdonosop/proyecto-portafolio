{
 "cells": [
  {
   "cell_type": "markdown",
   "id": "a8989b62",
   "metadata": {},
   "source": [
    "# Setup inicial"
   ]
  },
  {
   "cell_type": "code",
   "execution_count": 1,
   "id": "72a5ffb4",
   "metadata": {},
   "outputs": [],
   "source": [
    "import pandas as pd\n",
    "import numpy as np\n",
    "import matplotlib.pyplot as plt\n",
    "import seaborn as sns\n",
    "\n",
    "%matplotlib inline"
   ]
  },
  {
   "cell_type": "markdown",
   "id": "16bb5d67",
   "metadata": {},
   "source": [
    "# Carga fichero"
   ]
  },
  {
   "cell_type": "code",
   "execution_count": 2,
   "id": "32d7b5e0",
   "metadata": {
    "scrolled": true
   },
   "outputs": [
    {
     "data": {
      "text/html": [
       "<div>\n",
       "<style scoped>\n",
       "    .dataframe tbody tr th:only-of-type {\n",
       "        vertical-align: middle;\n",
       "    }\n",
       "\n",
       "    .dataframe tbody tr th {\n",
       "        vertical-align: top;\n",
       "    }\n",
       "\n",
       "    .dataframe thead th {\n",
       "        text-align: right;\n",
       "    }\n",
       "</style>\n",
       "<table border=\"1\" class=\"dataframe\">\n",
       "  <thead>\n",
       "    <tr style=\"text-align: right;\">\n",
       "      <th></th>\n",
       "      <th>url</th>\n",
       "      <th>company</th>\n",
       "      <th>make</th>\n",
       "      <th>model</th>\n",
       "      <th>version</th>\n",
       "      <th>price</th>\n",
       "      <th>price_financed</th>\n",
       "      <th>fuel</th>\n",
       "      <th>year</th>\n",
       "      <th>kms</th>\n",
       "      <th>...</th>\n",
       "      <th>doors</th>\n",
       "      <th>shift</th>\n",
       "      <th>color</th>\n",
       "      <th>photos</th>\n",
       "      <th>is_professional</th>\n",
       "      <th>dealer</th>\n",
       "      <th>province</th>\n",
       "      <th>country</th>\n",
       "      <th>publish_date</th>\n",
       "      <th>insert_date</th>\n",
       "    </tr>\n",
       "  </thead>\n",
       "  <tbody>\n",
       "    <tr>\n",
       "      <th>0</th>\n",
       "      <td>e158ae0ca53119ca199c28c36b5c2fcd</td>\n",
       "      <td>9881bcdd5a0ad4733037b3fb25e69c3a</td>\n",
       "      <td>SEAT</td>\n",
       "      <td>Toledo</td>\n",
       "      <td>SEAT Toledo  4p.</td>\n",
       "      <td>950</td>\n",
       "      <td>NaN</td>\n",
       "      <td>Diésel</td>\n",
       "      <td>2000.0</td>\n",
       "      <td>227000</td>\n",
       "      <td>...</td>\n",
       "      <td>4</td>\n",
       "      <td>Manual</td>\n",
       "      <td>Verde</td>\n",
       "      <td>5</td>\n",
       "      <td>False</td>\n",
       "      <td>0f4bb8455d27349b8273109b66a847f3</td>\n",
       "      <td>Navarra</td>\n",
       "      <td>Spain</td>\n",
       "      <td>2020-12-18 10:47:13</td>\n",
       "      <td>2021-01-15 00:00:00</td>\n",
       "    </tr>\n",
       "    <tr>\n",
       "      <th>1</th>\n",
       "      <td>ff267ebb7e700246f47f84f3db660b4b</td>\n",
       "      <td>9881bcdd5a0ad4733037b3fb25e69c3a</td>\n",
       "      <td>CITROEN</td>\n",
       "      <td>C1</td>\n",
       "      <td>CITROEN C1 PureTech 60KW 82CV Feel 5p.</td>\n",
       "      <td>6200</td>\n",
       "      <td>NaN</td>\n",
       "      <td>Gasolina</td>\n",
       "      <td>2017.0</td>\n",
       "      <td>50071</td>\n",
       "      <td>...</td>\n",
       "      <td>5</td>\n",
       "      <td>Manual</td>\n",
       "      <td>Blanco</td>\n",
       "      <td>6</td>\n",
       "      <td>True</td>\n",
       "      <td>Autos Raymara</td>\n",
       "      <td>Tenerife</td>\n",
       "      <td>Spain</td>\n",
       "      <td>2021-01-02 11:25:40</td>\n",
       "      <td>2021-01-15 00:00:00</td>\n",
       "    </tr>\n",
       "    <tr>\n",
       "      <th>2</th>\n",
       "      <td>de4b02db28ea7786c622b969be10c7c7</td>\n",
       "      <td>9881bcdd5a0ad4733037b3fb25e69c3a</td>\n",
       "      <td>FORD</td>\n",
       "      <td>Transit Connect</td>\n",
       "      <td>FORD Transit Connect Van 1.5 TDCi 100cv Ambien...</td>\n",
       "      <td>7851</td>\n",
       "      <td>7024.0</td>\n",
       "      <td>Diésel</td>\n",
       "      <td>2016.0</td>\n",
       "      <td>103000</td>\n",
       "      <td>...</td>\n",
       "      <td>4</td>\n",
       "      <td>Manual</td>\n",
       "      <td>Blanco</td>\n",
       "      <td>10</td>\n",
       "      <td>True</td>\n",
       "      <td>Auto 96</td>\n",
       "      <td>Barcelona</td>\n",
       "      <td>Spain</td>\n",
       "      <td>2020-12-16 10:51:45</td>\n",
       "      <td>2021-01-15 00:00:00</td>\n",
       "    </tr>\n",
       "    <tr>\n",
       "      <th>3</th>\n",
       "      <td>0449972a4d07594acf92e9a7dd28b39c</td>\n",
       "      <td>9881bcdd5a0ad4733037b3fb25e69c3a</td>\n",
       "      <td>VOLKSWAGEN</td>\n",
       "      <td>Caravelle</td>\n",
       "      <td>VOLKSWAGEN Caravelle Largo 2.0 TDI 140 Comfort...</td>\n",
       "      <td>19426</td>\n",
       "      <td>NaN</td>\n",
       "      <td>Diésel</td>\n",
       "      <td>2014.0</td>\n",
       "      <td>120000</td>\n",
       "      <td>...</td>\n",
       "      <td>4</td>\n",
       "      <td>Manual</td>\n",
       "      <td>Blanco</td>\n",
       "      <td>9</td>\n",
       "      <td>True</td>\n",
       "      <td>Inniauto</td>\n",
       "      <td>Navarra</td>\n",
       "      <td>Spain</td>\n",
       "      <td>2020-11-25 11:09:14</td>\n",
       "      <td>2021-01-15 00:00:00</td>\n",
       "    </tr>\n",
       "    <tr>\n",
       "      <th>4</th>\n",
       "      <td>12c4fa49bd4fdf23f19ecf396d3f02ef</td>\n",
       "      <td>9881bcdd5a0ad4733037b3fb25e69c3a</td>\n",
       "      <td>FORD</td>\n",
       "      <td>Transit</td>\n",
       "      <td>FORD Transit 350 96kW L4 Ambiente Propulsion T...</td>\n",
       "      <td>22850</td>\n",
       "      <td>22800.0</td>\n",
       "      <td>Diésel</td>\n",
       "      <td>2017.0</td>\n",
       "      <td>107000</td>\n",
       "      <td>...</td>\n",
       "      <td>2</td>\n",
       "      <td>Manual</td>\n",
       "      <td>Blanco</td>\n",
       "      <td>4</td>\n",
       "      <td>True</td>\n",
       "      <td>Autofleet España,s.l</td>\n",
       "      <td>Sevilla</td>\n",
       "      <td>Spain</td>\n",
       "      <td>2021-01-12 20:00:34</td>\n",
       "      <td>2021-01-15 00:00:00</td>\n",
       "    </tr>\n",
       "  </tbody>\n",
       "</table>\n",
       "<p>5 rows × 21 columns</p>\n",
       "</div>"
      ],
      "text/plain": [
       "                                url                           company  \\\n",
       "0  e158ae0ca53119ca199c28c36b5c2fcd  9881bcdd5a0ad4733037b3fb25e69c3a   \n",
       "1  ff267ebb7e700246f47f84f3db660b4b  9881bcdd5a0ad4733037b3fb25e69c3a   \n",
       "2  de4b02db28ea7786c622b969be10c7c7  9881bcdd5a0ad4733037b3fb25e69c3a   \n",
       "3  0449972a4d07594acf92e9a7dd28b39c  9881bcdd5a0ad4733037b3fb25e69c3a   \n",
       "4  12c4fa49bd4fdf23f19ecf396d3f02ef  9881bcdd5a0ad4733037b3fb25e69c3a   \n",
       "\n",
       "         make            model  \\\n",
       "0        SEAT           Toledo   \n",
       "1     CITROEN               C1   \n",
       "2        FORD  Transit Connect   \n",
       "3  VOLKSWAGEN        Caravelle   \n",
       "4        FORD          Transit   \n",
       "\n",
       "                                             version  price  price_financed  \\\n",
       "0                                   SEAT Toledo  4p.    950             NaN   \n",
       "1             CITROEN C1 PureTech 60KW 82CV Feel 5p.   6200             NaN   \n",
       "2  FORD Transit Connect Van 1.5 TDCi 100cv Ambien...   7851          7024.0   \n",
       "3  VOLKSWAGEN Caravelle Largo 2.0 TDI 140 Comfort...  19426             NaN   \n",
       "4  FORD Transit 350 96kW L4 Ambiente Propulsion T...  22850         22800.0   \n",
       "\n",
       "       fuel    year     kms  ...  doors   shift   color photos  \\\n",
       "0    Diésel  2000.0  227000  ...      4  Manual   Verde      5   \n",
       "1  Gasolina  2017.0   50071  ...      5  Manual  Blanco      6   \n",
       "2    Diésel  2016.0  103000  ...      4  Manual  Blanco     10   \n",
       "3    Diésel  2014.0  120000  ...      4  Manual  Blanco      9   \n",
       "4    Diésel  2017.0  107000  ...      2  Manual  Blanco      4   \n",
       "\n",
       "   is_professional                            dealer   province country  \\\n",
       "0            False  0f4bb8455d27349b8273109b66a847f3    Navarra   Spain   \n",
       "1             True                     Autos Raymara   Tenerife   Spain   \n",
       "2             True                           Auto 96  Barcelona   Spain   \n",
       "3             True                          Inniauto    Navarra   Spain   \n",
       "4             True              Autofleet España,s.l    Sevilla   Spain   \n",
       "\n",
       "          publish_date          insert_date  \n",
       "0  2020-12-18 10:47:13  2021-01-15 00:00:00  \n",
       "1  2021-01-02 11:25:40  2021-01-15 00:00:00  \n",
       "2  2020-12-16 10:51:45  2021-01-15 00:00:00  \n",
       "3  2020-11-25 11:09:14  2021-01-15 00:00:00  \n",
       "4  2021-01-12 20:00:34  2021-01-15 00:00:00  \n",
       "\n",
       "[5 rows x 21 columns]"
      ]
     },
     "execution_count": 2,
     "metadata": {},
     "output_type": "execute_result"
    }
   ],
   "source": [
    "df = pd.read_csv('../data/coches-de-segunda-mano-sample.csv')\n",
    "df.head()"
   ]
  },
  {
   "cell_type": "code",
   "execution_count": 3,
   "id": "4e4439e0",
   "metadata": {},
   "outputs": [
    {
     "name": "stdout",
     "output_type": "stream",
     "text": [
      "<class 'pandas.core.frame.DataFrame'>\n",
      "RangeIndex: 50000 entries, 0 to 49999\n",
      "Data columns (total 21 columns):\n",
      " #   Column           Non-Null Count  Dtype  \n",
      "---  ------           --------------  -----  \n",
      " 0   url              50000 non-null  object \n",
      " 1   company          50000 non-null  object \n",
      " 2   make             49998 non-null  object \n",
      " 3   model            49995 non-null  object \n",
      " 4   version          50000 non-null  object \n",
      " 5   price            50000 non-null  int64  \n",
      " 6   price_financed   23563 non-null  float64\n",
      " 7   fuel             49954 non-null  object \n",
      " 8   year             49998 non-null  float64\n",
      " 9   kms              50000 non-null  int64  \n",
      " 10  power            41472 non-null  float64\n",
      " 11  doors            50000 non-null  int64  \n",
      " 12  shift            49889 non-null  object \n",
      " 13  color            49406 non-null  object \n",
      " 14  photos           50000 non-null  int64  \n",
      " 15  is_professional  50000 non-null  bool   \n",
      " 16  dealer           50000 non-null  object \n",
      " 17  province         49994 non-null  object \n",
      " 18  country          50000 non-null  object \n",
      " 19  publish_date     50000 non-null  object \n",
      " 20  insert_date      50000 non-null  object \n",
      "dtypes: bool(1), float64(3), int64(4), object(13)\n",
      "memory usage: 7.7+ MB\n"
     ]
    }
   ],
   "source": [
    "df.info()"
   ]
  },
  {
   "cell_type": "markdown",
   "id": "6678e8cb",
   "metadata": {
    "heading_collapsed": true
   },
   "source": [
    "# Limpieza datos "
   ]
  },
  {
   "cell_type": "code",
   "execution_count": 4,
   "id": "ad0a04b2",
   "metadata": {
    "hidden": true
   },
   "outputs": [
    {
     "name": "stdout",
     "output_type": "stream",
     "text": [
      "<class 'pandas.core.frame.DataFrame'>\n",
      "RangeIndex: 50000 entries, 0 to 49999\n",
      "Data columns (total 21 columns):\n",
      " #   Column           Non-Null Count  Dtype  \n",
      "---  ------           --------------  -----  \n",
      " 0   url              50000 non-null  object \n",
      " 1   company          50000 non-null  object \n",
      " 2   make             50000 non-null  object \n",
      " 3   model            49995 non-null  object \n",
      " 4   version          50000 non-null  object \n",
      " 5   price            50000 non-null  int64  \n",
      " 6   price_financed   23563 non-null  float64\n",
      " 7   fuel             49954 non-null  object \n",
      " 8   year             49998 non-null  float64\n",
      " 9   kms              50000 non-null  int64  \n",
      " 10  power            41472 non-null  float64\n",
      " 11  doors            50000 non-null  int64  \n",
      " 12  shift            49889 non-null  object \n",
      " 13  color            49406 non-null  object \n",
      " 14  photos           50000 non-null  int64  \n",
      " 15  is_professional  50000 non-null  bool   \n",
      " 16  dealer           50000 non-null  object \n",
      " 17  province         49994 non-null  object \n",
      " 18  country          50000 non-null  object \n",
      " 19  publish_date     50000 non-null  object \n",
      " 20  insert_date      50000 non-null  object \n",
      "dtypes: bool(1), float64(3), int64(4), object(13)\n",
      "memory usage: 7.7+ MB\n"
     ]
    }
   ],
   "source": [
    "# estudiamos nulos marcas\n",
    "\n",
    "df.fillna({'make':'INVICTA'}, inplace = True)\n",
    "df.info()"
   ]
  },
  {
   "cell_type": "code",
   "execution_count": 5,
   "id": "d75fd138",
   "metadata": {
    "hidden": true
   },
   "outputs": [
    {
     "name": "stdout",
     "output_type": "stream",
     "text": [
      "<class 'pandas.core.frame.DataFrame'>\n",
      "RangeIndex: 50000 entries, 0 to 49999\n",
      "Data columns (total 21 columns):\n",
      " #   Column           Non-Null Count  Dtype  \n",
      "---  ------           --------------  -----  \n",
      " 0   url              50000 non-null  object \n",
      " 1   company          50000 non-null  object \n",
      " 2   make             50000 non-null  object \n",
      " 3   model            50000 non-null  object \n",
      " 4   version          50000 non-null  object \n",
      " 5   price            50000 non-null  int64  \n",
      " 6   price_financed   23563 non-null  float64\n",
      " 7   fuel             49954 non-null  object \n",
      " 8   year             49998 non-null  float64\n",
      " 9   kms              50000 non-null  int64  \n",
      " 10  power            41472 non-null  float64\n",
      " 11  doors            50000 non-null  int64  \n",
      " 12  shift            49889 non-null  object \n",
      " 13  color            49406 non-null  object \n",
      " 14  photos           50000 non-null  int64  \n",
      " 15  is_professional  50000 non-null  bool   \n",
      " 16  dealer           50000 non-null  object \n",
      " 17  province         49994 non-null  object \n",
      " 18  country          50000 non-null  object \n",
      " 19  publish_date     50000 non-null  object \n",
      " 20  insert_date      50000 non-null  object \n",
      "dtypes: bool(1), float64(3), int64(4), object(13)\n",
      "memory usage: 7.7+ MB\n"
     ]
    }
   ],
   "source": [
    "#estudiamos nulos modelos\n",
    "\n",
    "df.loc[1330,'model'] = 'Córdoba'\n",
    "df.loc[25574,'model'] = 'Toledo'\n",
    "df.loc[31826,'model'] = 'Toledo'\n",
    "df.loc[32831,'model'] = 'León'\n",
    "df.loc[37683,'model'] = 'Toledo'\n",
    "\n",
    "df.info()"
   ]
  },
  {
   "cell_type": "code",
   "execution_count": 164,
   "id": "a39e18c4",
   "metadata": {
    "hidden": true
   },
   "outputs": [
    {
     "data": {
      "text/html": [
       "<div>\n",
       "<style scoped>\n",
       "    .dataframe tbody tr th:only-of-type {\n",
       "        vertical-align: middle;\n",
       "    }\n",
       "\n",
       "    .dataframe tbody tr th {\n",
       "        vertical-align: top;\n",
       "    }\n",
       "\n",
       "    .dataframe thead th {\n",
       "        text-align: right;\n",
       "    }\n",
       "</style>\n",
       "<table border=\"1\" class=\"dataframe\">\n",
       "  <thead>\n",
       "    <tr style=\"text-align: right;\">\n",
       "      <th></th>\n",
       "      <th>url</th>\n",
       "      <th>company</th>\n",
       "      <th>make</th>\n",
       "      <th>model</th>\n",
       "      <th>version</th>\n",
       "      <th>price</th>\n",
       "      <th>price_financed</th>\n",
       "      <th>fuel</th>\n",
       "      <th>year</th>\n",
       "      <th>kms</th>\n",
       "      <th>...</th>\n",
       "      <th>shift</th>\n",
       "      <th>color</th>\n",
       "      <th>photos</th>\n",
       "      <th>is_professional</th>\n",
       "      <th>dealer</th>\n",
       "      <th>province</th>\n",
       "      <th>country</th>\n",
       "      <th>publish_date</th>\n",
       "      <th>insert_date</th>\n",
       "      <th>kms_cat</th>\n",
       "    </tr>\n",
       "  </thead>\n",
       "  <tbody>\n",
       "    <tr>\n",
       "      <th>0</th>\n",
       "      <td>e158ae0ca53119ca199c28c36b5c2fcd</td>\n",
       "      <td>9881bcdd5a0ad4733037b3fb25e69c3a</td>\n",
       "      <td>SEAT</td>\n",
       "      <td>Toledo</td>\n",
       "      <td>SEAT Toledo  4p.</td>\n",
       "      <td>950</td>\n",
       "      <td>NaN</td>\n",
       "      <td>Diésel</td>\n",
       "      <td>2000.0</td>\n",
       "      <td>227000</td>\n",
       "      <td>...</td>\n",
       "      <td>Manual</td>\n",
       "      <td>Verde</td>\n",
       "      <td>5</td>\n",
       "      <td>False</td>\n",
       "      <td>0f4bb8455d27349b8273109b66a847f3</td>\n",
       "      <td>Navarra</td>\n",
       "      <td>Spain</td>\n",
       "      <td>2020-12-18 10:47:13</td>\n",
       "      <td>2021-01-15 00:00:00</td>\n",
       "      <td>(192220.0, 241000.0]</td>\n",
       "    </tr>\n",
       "    <tr>\n",
       "      <th>1</th>\n",
       "      <td>ff267ebb7e700246f47f84f3db660b4b</td>\n",
       "      <td>9881bcdd5a0ad4733037b3fb25e69c3a</td>\n",
       "      <td>CITROEN</td>\n",
       "      <td>C1</td>\n",
       "      <td>CITROEN C1 PureTech 60KW 82CV Feel 5p.</td>\n",
       "      <td>6200</td>\n",
       "      <td>NaN</td>\n",
       "      <td>Gasolina</td>\n",
       "      <td>2017.0</td>\n",
       "      <td>50071</td>\n",
       "      <td>...</td>\n",
       "      <td>Manual</td>\n",
       "      <td>Blanco</td>\n",
       "      <td>6</td>\n",
       "      <td>True</td>\n",
       "      <td>Autos Raymara</td>\n",
       "      <td>Tenerife</td>\n",
       "      <td>Spain</td>\n",
       "      <td>2021-01-02 11:25:40</td>\n",
       "      <td>2021-01-15 00:00:00</td>\n",
       "      <td>(25582.2, 51021.0]</td>\n",
       "    </tr>\n",
       "    <tr>\n",
       "      <th>2</th>\n",
       "      <td>de4b02db28ea7786c622b969be10c7c7</td>\n",
       "      <td>9881bcdd5a0ad4733037b3fb25e69c3a</td>\n",
       "      <td>FORD</td>\n",
       "      <td>Transit Connect</td>\n",
       "      <td>FORD Transit Connect Van 1.5 TDCi 100cv Ambien...</td>\n",
       "      <td>7851</td>\n",
       "      <td>7024.0</td>\n",
       "      <td>Diésel</td>\n",
       "      <td>2016.0</td>\n",
       "      <td>103000</td>\n",
       "      <td>...</td>\n",
       "      <td>Manual</td>\n",
       "      <td>Blanco</td>\n",
       "      <td>10</td>\n",
       "      <td>True</td>\n",
       "      <td>Auto 96</td>\n",
       "      <td>Barcelona</td>\n",
       "      <td>Spain</td>\n",
       "      <td>2020-12-16 10:51:45</td>\n",
       "      <td>2021-01-15 00:00:00</td>\n",
       "      <td>(99999.0, 127141.4]</td>\n",
       "    </tr>\n",
       "    <tr>\n",
       "      <th>3</th>\n",
       "      <td>0449972a4d07594acf92e9a7dd28b39c</td>\n",
       "      <td>9881bcdd5a0ad4733037b3fb25e69c3a</td>\n",
       "      <td>VOLKSWAGEN</td>\n",
       "      <td>Caravelle</td>\n",
       "      <td>VOLKSWAGEN Caravelle Largo 2.0 TDI 140 Comfort...</td>\n",
       "      <td>19426</td>\n",
       "      <td>NaN</td>\n",
       "      <td>Diésel</td>\n",
       "      <td>2014.0</td>\n",
       "      <td>120000</td>\n",
       "      <td>...</td>\n",
       "      <td>Manual</td>\n",
       "      <td>Blanco</td>\n",
       "      <td>9</td>\n",
       "      <td>True</td>\n",
       "      <td>Inniauto</td>\n",
       "      <td>Navarra</td>\n",
       "      <td>Spain</td>\n",
       "      <td>2020-11-25 11:09:14</td>\n",
       "      <td>2021-01-15 00:00:00</td>\n",
       "      <td>(99999.0, 127141.4]</td>\n",
       "    </tr>\n",
       "    <tr>\n",
       "      <th>4</th>\n",
       "      <td>12c4fa49bd4fdf23f19ecf396d3f02ef</td>\n",
       "      <td>9881bcdd5a0ad4733037b3fb25e69c3a</td>\n",
       "      <td>FORD</td>\n",
       "      <td>Transit</td>\n",
       "      <td>FORD Transit 350 96kW L4 Ambiente Propulsion T...</td>\n",
       "      <td>22850</td>\n",
       "      <td>22800.0</td>\n",
       "      <td>Diésel</td>\n",
       "      <td>2017.0</td>\n",
       "      <td>107000</td>\n",
       "      <td>...</td>\n",
       "      <td>Manual</td>\n",
       "      <td>Blanco</td>\n",
       "      <td>4</td>\n",
       "      <td>True</td>\n",
       "      <td>Autofleet España,s.l</td>\n",
       "      <td>Sevilla</td>\n",
       "      <td>Spain</td>\n",
       "      <td>2021-01-12 20:00:34</td>\n",
       "      <td>2021-01-15 00:00:00</td>\n",
       "      <td>(99999.0, 127141.4]</td>\n",
       "    </tr>\n",
       "  </tbody>\n",
       "</table>\n",
       "<p>5 rows × 22 columns</p>\n",
       "</div>"
      ],
      "text/plain": [
       "                                url                           company  \\\n",
       "0  e158ae0ca53119ca199c28c36b5c2fcd  9881bcdd5a0ad4733037b3fb25e69c3a   \n",
       "1  ff267ebb7e700246f47f84f3db660b4b  9881bcdd5a0ad4733037b3fb25e69c3a   \n",
       "2  de4b02db28ea7786c622b969be10c7c7  9881bcdd5a0ad4733037b3fb25e69c3a   \n",
       "3  0449972a4d07594acf92e9a7dd28b39c  9881bcdd5a0ad4733037b3fb25e69c3a   \n",
       "4  12c4fa49bd4fdf23f19ecf396d3f02ef  9881bcdd5a0ad4733037b3fb25e69c3a   \n",
       "\n",
       "         make            model  \\\n",
       "0        SEAT           Toledo   \n",
       "1     CITROEN               C1   \n",
       "2        FORD  Transit Connect   \n",
       "3  VOLKSWAGEN        Caravelle   \n",
       "4        FORD          Transit   \n",
       "\n",
       "                                             version  price  price_financed  \\\n",
       "0                                   SEAT Toledo  4p.    950             NaN   \n",
       "1             CITROEN C1 PureTech 60KW 82CV Feel 5p.   6200             NaN   \n",
       "2  FORD Transit Connect Van 1.5 TDCi 100cv Ambien...   7851          7024.0   \n",
       "3  VOLKSWAGEN Caravelle Largo 2.0 TDI 140 Comfort...  19426             NaN   \n",
       "4  FORD Transit 350 96kW L4 Ambiente Propulsion T...  22850         22800.0   \n",
       "\n",
       "       fuel    year     kms  ...   shift   color photos is_professional  \\\n",
       "0    Diésel  2000.0  227000  ...  Manual   Verde      5           False   \n",
       "1  Gasolina  2017.0   50071  ...  Manual  Blanco      6            True   \n",
       "2    Diésel  2016.0  103000  ...  Manual  Blanco     10            True   \n",
       "3    Diésel  2014.0  120000  ...  Manual  Blanco      9            True   \n",
       "4    Diésel  2017.0  107000  ...  Manual  Blanco      4            True   \n",
       "\n",
       "                             dealer   province country         publish_date  \\\n",
       "0  0f4bb8455d27349b8273109b66a847f3    Navarra   Spain  2020-12-18 10:47:13   \n",
       "1                     Autos Raymara   Tenerife   Spain  2021-01-02 11:25:40   \n",
       "2                           Auto 96  Barcelona   Spain  2020-12-16 10:51:45   \n",
       "3                          Inniauto    Navarra   Spain  2020-11-25 11:09:14   \n",
       "4              Autofleet España,s.l    Sevilla   Spain  2021-01-12 20:00:34   \n",
       "\n",
       "           insert_date               kms_cat  \n",
       "0  2021-01-15 00:00:00  (192220.0, 241000.0]  \n",
       "1  2021-01-15 00:00:00    (25582.2, 51021.0]  \n",
       "2  2021-01-15 00:00:00   (99999.0, 127141.4]  \n",
       "3  2021-01-15 00:00:00   (99999.0, 127141.4]  \n",
       "4  2021-01-15 00:00:00   (99999.0, 127141.4]  \n",
       "\n",
       "[5 rows x 22 columns]"
      ]
     },
     "execution_count": 164,
     "metadata": {},
     "output_type": "execute_result"
    }
   ],
   "source": [
    "#categorizamos campo kms\n",
    "\n",
    "df['kms_cat'] = pd.qcut(df.kms,10)\n",
    "df.head()"
   ]
  },
  {
   "cell_type": "markdown",
   "id": "1a87a631",
   "metadata": {
    "heading_collapsed": true
   },
   "source": [
    "# Brainstorming cuestiones"
   ]
  },
  {
   "cell_type": "markdown",
   "id": "da25be1c",
   "metadata": {
    "hidden": true,
    "hide_input": true
   },
   "source": [
    "**Marca**\n",
    "- ¿Cuántas marcas hay?\n",
    "- ¿Cuántos coches hay de cada marca?\n",
    "\n",
    "**Modelo**\n",
    "- ¿Cuantos modelos hay?\n",
    "- ¿Cuantos modelos tiene cada marca?\n",
    "- ¿Cuantos coches hay de cada modelo?\n",
    "\n",
    "\n",
    "**Precio**\n",
    "- ¿Cual es la distribución de precios?\n",
    "- ¿Cual es la marca más cara? \n",
    "- ¿Existen conjuntos de marcas con precios similares que se puedan agrupar?\n",
    "- ¿Cual es el modelo más caro? ¿y el más barato?\n",
    "- ¿Existen conjuntos de modelos con precios similares que se puedan agrupar?\n",
    "\n",
    "**Precio financiado**\n",
    "- ¿Cual es el % de coches que permiten financiación?\n",
    "- ¿Hay relación de vendedores que permiten financiación?\n",
    "- ¿Cuál es el % de descuento por financiar? ¿Es fijo por vendedor o varía?\n",
    "\n",
    "**Combustibles**\n",
    "- ¿Cual es la distribución de combustibles?\n",
    "- ¿Cuáles son más baratos?\n",
    "- A igualdad de modelo, es más barato un diésel o un gasolina?\n",
    "\n",
    "**Antigüedad**\n",
    "- ¿Cual es el año medio de los coches anunciados?\n",
    "- ¿Hay marcas que son significativamente más antiguas o más nuevas? ¿y modelos?\n",
    "- ¿Existe relación entre antiguedad y precio?\n",
    "\n",
    "**Kilómetros**\n",
    "- ¿Cual es la distribución de kilómetros?\n",
    "- ¿Hay marcas y/o modelos que se venden con más kilómetros que otros? \n",
    "- ¿Existe relación entre kilometraje y precio? \n",
    "- ¿Existe relación entre kilometraje y año? \n",
    "- ¿Se puede apreciar algún salto de precio en función de los kilómetros a igualdad de marca y modelo? ¿y si añadimos el año?\n",
    "\n",
    "**Número de puertas**\n",
    "- ¿Cuántos números de puertas distintos tenemos?\n",
    "- A igualdad de modelo y año, o modelo y kilómetros, ¿existe relación entre precio y número de puertas?\n",
    "\n",
    "**Caja de cambios**\n",
    "- ¿Cuantos tipos de cambio distintos hay? \n",
    "- ¿Existe relación de precio? \n",
    "- ¿Hay relación con alguna variable como el combustible o la marca?\n",
    "\n",
    "**Color**\n",
    "- ¿Cuantos colores distintos hay? \n",
    "- Distribución de marcas y modelos por color. ¿Hay alguno que destaque? \n",
    "- ¿Puede existir alguna relación entre precio y color? ¿y entre año y color?\n",
    "\n",
    "**Tipo de vendedor**\n",
    "- ¿Cual es la proporción de vendedores particulares y profesionales? \n",
    "- ¿Existe alguna relación con las marcas? \n",
    "- A igualdad de modelo, ¿hay diferencias de precio entre particulares y profesionales?\n",
    "- ¿Existe alguna relación entre el tipo de vendedor y el número de fotos?\n",
    "\n",
    "**Nombre del vendedor**\n",
    "- ¿Cuantos vendedores profesionales hay? \n",
    "- ¿Hay alguno especializado en alguna marca en especial? \n",
    "- ¿Podemos ver que alguno sea más caro que otros? \n",
    "- ¿Alguno destaca por poner más fotografías?\n",
    "- ¿Existe alguna relación entre el precio y el número de fotografías?\n",
    "- ¿Y entre el número de fotos y la marca y modelo?\n",
    "\n",
    "**Provincia**\n",
    "- ¿Cuantos coches se venden en cada provincia? \n",
    "- ¿Cual es el precio medio de venta en cada provincia? \n",
    "- ¿Se venden más coches de algún color en alguna provincia? \n",
    "- ¿En qué provincia se venden los coches con menos km? ¿y con más?\n",
    "\n",
    "**Fecha de publicación**\n",
    "- ¿Existe alguna relación entre la fecha de publicación y el precio a igualdad de modelo y kilometraje?"
   ]
  },
  {
   "cell_type": "markdown",
   "id": "0187e247",
   "metadata": {
    "heading_collapsed": true
   },
   "source": [
    "# Preguntas"
   ]
  },
  {
   "cell_type": "markdown",
   "id": "c07e3b10",
   "metadata": {
    "hidden": true
   },
   "source": [
    "**Datos Macro**\n",
    "- Top 10 marcas más vendidas\n",
    "- Top 15 modelos más vendidos\n",
    "- Precio medio de coches en venta\n",
    "- Distribución de combustibles\n",
    "- Distribución de cajas de cambios\n",
    "- Distribución colores\n",
    "\n",
    "**Coche promedio**\n",
    "- Antigüedad media\n",
    "- Kilometraje medio\n",
    "- Potencia media\n",
    "- Combustible máximo\n",
    "- Número de puertas máximo\n",
    "- Caja de cambios máximo\n",
    "- Color máximo\n",
    "- Calcular precio para el coche promedio. ¿Se aleja de la media de coches en venta? Intentar justificar el por qué.\n",
    "\n",
    "**Relaciones características-precio**\n",
    "- Existe alguna relación entre el tipo de combustible y el precio? A igualdad de antigüedad y kilometraje.\n",
    "- Existe alguna relación entre la antigüedad y el precio? Le afecta el kilometraje y el combustible?\n",
    "- Existe alguna relación entre el kilometraje y el precio y el precio? Le afecta la antigüedad y el combustible?\n",
    "\n",
    "**Datos comerciales**\n",
    "- Distribución de vendedores profesionales-particulares\n",
    "- Top 10 vendedores con más anuncios. Precio medio de anuncio en vendedores profesionales. Hay diferencias significativas?\n",
    "- Existen diferencias de precios entre vendedores profesionales y particulares?\n",
    "\n",
    "**Datos geográficos**\n",
    "- Distribución de anuncios por provincia\n",
    "- Cuál es el precio medio por provincia?\n",
    "- Top 10 de provincias más caras/baratas. Existen diferencias significativas?\n",
    "- Distribución de colores vendidos por provincia. Hay algún dato significativo?\n",
    "- Distribución de combustibles por provincia. Hay algún dato significativo?\n",
    "- Distribución de antigüedad por provincia. Hay algún dato significativo?\n",
    "- Dónde se venden más coches eléctricos?"
   ]
  },
  {
   "cell_type": "markdown",
   "id": "28498043",
   "metadata": {},
   "source": [
    "# Análisis"
   ]
  },
  {
   "cell_type": "markdown",
   "id": "1e9960a8",
   "metadata": {
    "heading_collapsed": true
   },
   "source": [
    "## Datos Macro"
   ]
  },
  {
   "cell_type": "markdown",
   "id": "13b3e322",
   "metadata": {
    "hidden": true
   },
   "source": [
    "- Top 10 marcas más vendidas\n",
    "- Top 15 modelos más vendidos\n",
    "- Precio medio de coches en venta\n",
    "- Distribución de combustibles\n",
    "- Distribución de cajas de cambios\n",
    "- Distribución colores"
   ]
  },
  {
   "cell_type": "code",
   "execution_count": 6,
   "id": "28ba5731",
   "metadata": {
    "hidden": true,
    "scrolled": true
   },
   "outputs": [
    {
     "data": {
      "image/png": "[encoded data removed]",
      "text/plain": [
       "<Figure size 640x480 with 1 Axes>"
      ]
     },
     "metadata": {},
     "output_type": "display_data"
    }
   ],
   "source": [
    "df['make'].value_counts().head(10).sort_values().plot.barh();"
   ]
  },
  {
   "cell_type": "code",
   "execution_count": 7,
   "id": "5d5b43c6",
   "metadata": {
    "hidden": true
   },
   "outputs": [
    {
     "data": {
      "image/png": "[encoded data removed]",
      "text/plain": [
       "<Figure size 640x480 with 1 Axes>"
      ]
     },
     "metadata": {},
     "output_type": "display_data"
    }
   ],
   "source": [
    "df[['make','model']].value_counts().head(15).sort_values().plot.barh();"
   ]
  },
  {
   "cell_type": "code",
   "execution_count": 8,
   "id": "cb055f97",
   "metadata": {
    "hidden": true
   },
   "outputs": [
    {
     "data": {
      "text/plain": [
       "15166.27"
      ]
     },
     "execution_count": 8,
     "metadata": {},
     "output_type": "execute_result"
    }
   ],
   "source": [
    "round(df['price'].mean(),2)"
   ]
  },
  {
   "cell_type": "code",
   "execution_count": 17,
   "id": "268404cf",
   "metadata": {
    "hidden": true
   },
   "outputs": [
    {
     "data": {
      "image/png": "[encoded data removed]",
      "text/plain": [
       "<Figure size 640x480 with 1 Axes>"
      ]
     },
     "metadata": {},
     "output_type": "display_data"
    }
   ],
   "source": [
    "df.fuel.value_counts().plot.pie();"
   ]
  },
  {
   "cell_type": "code",
   "execution_count": 18,
   "id": "73911cac",
   "metadata": {
    "hidden": true
   },
   "outputs": [
    {
     "data": {
      "image/png": "[encoded data removed]",
      "text/plain": [
       "<Figure size 640x480 with 1 Axes>"
      ]
     },
     "metadata": {},
     "output_type": "display_data"
    }
   ],
   "source": [
    "df['shift'].value_counts().plot.pie();"
   ]
  },
  {
   "cell_type": "code",
   "execution_count": 34,
   "id": "c78a294b",
   "metadata": {
    "hidden": true
   },
   "outputs": [
    {
     "data": {
      "text/plain": [
       "3565"
      ]
     },
     "execution_count": 34,
     "metadata": {},
     "output_type": "execute_result"
    }
   ],
   "source": [
    "df['color'].nunique()"
   ]
  },
  {
   "cell_type": "markdown",
   "id": "d4633111",
   "metadata": {
    "hidden": true
   },
   "source": [
    "Hay demasiados colores diferentes por lo que a falta de hacer una limpieza del campo obviaremos todas las preguntas relacionadas con él."
   ]
  },
  {
   "cell_type": "markdown",
   "id": "95a63b3d",
   "metadata": {
    "heading_collapsed": true
   },
   "source": [
    "## Coche promedio"
   ]
  },
  {
   "cell_type": "markdown",
   "id": "bde496b0",
   "metadata": {
    "hidden": true
   },
   "source": [
    "- Antigüedad media\n",
    "- Kilometraje medio\n",
    "- Potencia media\n",
    "- Combustible máximo\n",
    "- Número de puertas máximo\n",
    "- Caja de cambios máximo\n",
    "- Color máximo\n",
    "- Calcular precio para el coche promedio. ¿Se aleja de la media de coches en venta? Intentar justificar el por qué."
   ]
  },
  {
   "cell_type": "code",
   "execution_count": 170,
   "id": "dd5ab4c9",
   "metadata": {
    "hidden": true
   },
   "outputs": [
    {
     "data": {
      "text/plain": [
       "2015.0"
      ]
     },
     "execution_count": 170,
     "metadata": {},
     "output_type": "execute_result"
    }
   ],
   "source": [
    "df['year'].median()"
   ]
  },
  {
   "cell_type": "code",
   "execution_count": 169,
   "id": "eaf57bf6",
   "metadata": {
    "hidden": true
   },
   "outputs": [
    {
     "data": {
      "text/plain": [
       "99999.0"
      ]
     },
     "execution_count": 169,
     "metadata": {},
     "output_type": "execute_result"
    }
   ],
   "source": [
    "df['kms'].median()"
   ]
  },
  {
   "cell_type": "code",
   "execution_count": 168,
   "id": "994962c1",
   "metadata": {
    "hidden": true
   },
   "outputs": [
    {
     "data": {
      "text/plain": [
       "fuel    doors  shift \n",
       "Diésel  5      Manual    15624\n",
       "dtype: int64"
      ]
     },
     "execution_count": 168,
     "metadata": {},
     "output_type": "execute_result"
    }
   ],
   "source": [
    "df[['fuel','doors','shift']].value_counts().head(1)"
   ]
  },
  {
   "cell_type": "code",
   "execution_count": 201,
   "id": "ed8b57bd",
   "metadata": {
    "hidden": true
   },
   "outputs": [
    {
     "data": {
      "text/plain": [
       "12990.033333333333"
      ]
     },
     "execution_count": 201,
     "metadata": {},
     "output_type": "execute_result"
    }
   ],
   "source": [
    "df[\n",
    "    (df.year == df['year'].median()) &\n",
    "    #(df.year <= df['year'].median()+1) & (df.year >= df['year'].median()-1) &\n",
    "    (df.kms < df['kms'].median()+10000) & (df.kms > df['kms'].median()-10000) &\n",
    "    (df['fuel'] == 'Diésel') & \n",
    "    (df['doors'] == 5) & \n",
    "    (df['shift'] == 'Manual') \n",
    "].price.mean()"
   ]
  },
  {
   "cell_type": "markdown",
   "id": "ee83fcaa",
   "metadata": {},
   "source": [
    "## Relaciones características-precio"
   ]
  },
  {
   "cell_type": "markdown",
   "id": "32b58a8a",
   "metadata": {},
   "source": [
    "- Existe alguna relación entre el tipo de combustible y el precio? A igualdad de antigüedad y kilometraje.\n",
    "- Existe alguna relación entre la antigüedad y el precio? Le afecta el kilometraje y el combustible?\n",
    "- Existe alguna relación entre el kilometraje y el precio y el precio? Le afecta la antigüedad y el combustible?"
   ]
  },
  {
   "cell_type": "code",
   "execution_count": null,
   "id": "561c5e87",
   "metadata": {},
   "outputs": [],
   "source": []
  },
  {
   "cell_type": "markdown",
   "id": "98cfc0e0",
   "metadata": {
    "heading_collapsed": true
   },
   "source": [
    "## Datos comerciales"
   ]
  },
  {
   "cell_type": "markdown",
   "id": "4bc4e2c4",
   "metadata": {
    "hidden": true
   },
   "source": [
    "- Distribución de vendedores profesionales-particulares\n",
    "- Top 10 vendedores con más anuncios. Precio medio de anuncio en vendedores profesionales. Hay diferencias significativas?\n",
    "- Existen diferencias de precios entre vendedores profesionales y particulares?"
   ]
  },
  {
   "cell_type": "code",
   "execution_count": null,
   "id": "b7dcfca7",
   "metadata": {
    "hidden": true
   },
   "outputs": [],
   "source": []
  },
  {
   "cell_type": "markdown",
   "id": "5aab19fd",
   "metadata": {
    "heading_collapsed": true
   },
   "source": [
    "## Datos geográficos"
   ]
  },
  {
   "cell_type": "markdown",
   "id": "f44bf690",
   "metadata": {
    "hidden": true
   },
   "source": [
    "- Distribución de anuncios por provincia\n",
    "- Cuál es el precio medio por provincia?\n",
    "- Top 10 de provincias más caras/baratas. Existen diferencias significativas?\n",
    "- Distribución de colores vendidos por provincia. Hay algún dato significativo?\n",
    "- Distribución de combustibles por provincia. Hay algún dato significativo?\n",
    "- Distribución de antigüedad por provincia. Hay algún dato significativo?\n",
    "- Dónde se venden más coches eléctricos?"
   ]
  },
  {
   "cell_type": "code",
   "execution_count": null,
   "id": "7658812f",
   "metadata": {
    "hidden": true
   },
   "outputs": [],
   "source": []
  }
 ],
 "metadata": {
  "kernelspec": {
   "display_name": "Python 3 (ipykernel)",
   "language": "python",
   "name": "python3"
  },
  "language_info": {
   "codemirror_mode": {
    "name": "ipython",
    "version": 3
   },
   "file_extension": ".py",
   "mimetype": "text/x-python",
   "name": "python",
   "nbconvert_exporter": "python",
   "pygments_lexer": "ipython3",
   "version": "3.9.12"
  },
  "toc": {
   "base_numbering": 1,
   "nav_menu": {},
   "number_sections": true,
   "sideBar": true,
   "skip_h1_title": false,
   "title_cell": "Table of Contents",
   "title_sidebar": "Contents",
   "toc_cell": false,
   "toc_position": {},
   "toc_section_display": true,
   "toc_window_display": false
  },
  "varInspector": {
   "cols": {
    "lenName": 16,
    "lenType": 16,
    "lenVar": 40
   },
   "kernels_config": {
    "python": {
     "delete_cmd_postfix": "",
     "delete_cmd_prefix": "del ",
     "library": "var_list.py",
     "varRefreshCmd": "print(var_dic_list())"
    },
    "r": {
     "delete_cmd_postfix": ") ",
     "delete_cmd_prefix": "rm(",
     "library": "var_list.r",
     "varRefreshCmd": "cat(var_dic_list()) "
    }
   },
   "types_to_exclude": [
    "module",
    "function",
    "builtin_function_or_method",
    "instance",
    "_Feature"
   ],
   "window_display": false
  }
 },
 "nbformat": 4,
 "nbformat_minor": 5
}
